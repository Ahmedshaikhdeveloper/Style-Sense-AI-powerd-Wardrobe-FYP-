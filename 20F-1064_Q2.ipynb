{
 "cells": [
  {
   "cell_type": "code",
   "execution_count": 5,
   "id": "bfe5c4b8",
   "metadata": {},
   "outputs": [
    {
     "name": "stdout",
     "output_type": "stream",
     "text": [
      "Even: [2, 4, 6, 8, 10, 12, 14]\n",
      "Squared: [1, 4, 9, 16, 25, 36, 49, 64, 81, 100, 121, 144, 169, 196, 225]\n",
      "Squares of Even: [4, 16, 36, 64, 100, 144, 196]\n"
     ]
    }
   ],
   "source": [
    "num = list(range(1, 16))\n",
    "\n",
    "even = list(filter(lambda x: x % 2 == 0, num))\n",
    "print(\"Even:\", even)\n",
    "\n",
    "squared = list(map(lambda x: x**2, num))\n",
    "print(\"Squared:\", squared)\n",
    "\n",
    "filtered_and_squared = list(map(lambda x: x**2, filter(lambda x: x % 2 == 0, num)))\n",
    "print(\"Squares of Even:\", filtered_and_squared)\n"
   ]
  },
  {
   "cell_type": "code",
   "execution_count": null,
   "id": "0caad445",
   "metadata": {},
   "outputs": [],
   "source": []
  }
 ],
 "metadata": {
  "kernelspec": {
   "display_name": "Python 3 (ipykernel)",
   "language": "python",
   "name": "python3"
  },
  "language_info": {
   "codemirror_mode": {
    "name": "ipython",
    "version": 3
   },
   "file_extension": ".py",
   "mimetype": "text/x-python",
   "name": "python",
   "nbconvert_exporter": "python",
   "pygments_lexer": "ipython3",
   "version": "3.11.4"
  }
 },
 "nbformat": 4,
 "nbformat_minor": 5
}
